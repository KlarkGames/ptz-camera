{
 "cells": [
  {
   "cell_type": "code",
   "execution_count": 3,
   "id": "initial_id",
   "metadata": {
    "ExecuteTime": {
     "end_time": "2024-04-14T10:12:14.336786945Z",
     "start_time": "2024-04-14T10:12:09.250831042Z"
    }
   },
   "outputs": [],
   "source": [
    "import fiftyone as fo\n",
    "import fiftyone.zoo as foz\n",
    "import fiftyone.brain as fob\n",
    "import fiftyone.utils.data as foud\n",
    "import fiftyone.utils.random as four\n",
    "from fiftyone import ViewField as F\n",
    "import csv\n",
    "import pandas as pd\n",
    "import torch.cuda\n",
    "from os.path import join\n",
    "import json\n",
    "import copy\n",
    "from tqdm import tqdm"
   ]
  },
  {
   "cell_type": "code",
   "execution_count": 4,
   "id": "fb334de0478ef4b8",
   "metadata": {
    "ExecuteTime": {
     "end_time": "2024-04-14T10:12:14.341179903Z",
     "start_time": "2024-04-14T10:12:14.336563159Z"
    },
    "collapsed": false,
    "jupyter": {
     "outputs_hidden": false
    }
   },
   "outputs": [
    {
     "data": {
      "text/plain": [
       "True"
      ]
     },
     "execution_count": 4,
     "metadata": {},
     "output_type": "execute_result"
    }
   ],
   "source": [
    "torch.cuda.is_available()"
   ]
  },
  {
   "cell_type": "code",
   "execution_count": 5,
   "id": "ebeddcfc-06fb-4185-9ec0-b0cd037087f2",
   "metadata": {},
   "outputs": [
    {
     "name": "stdout",
     "output_type": "stream",
     "text": [
      "/home/person/Laletin_Diplom/ptz-camera/notebooks/data_manipulation\n"
     ]
    }
   ],
   "source": [
    "!pwd"
   ]
  },
  {
   "cell_type": "code",
   "execution_count": 6,
   "id": "4c1cd41e7b9c3724",
   "metadata": {
    "ExecuteTime": {
     "end_time": "2024-04-14T09:13:59.685410891Z",
     "start_time": "2024-04-14T09:13:59.547615050Z"
    },
    "collapsed": false,
    "jupyter": {
     "outputs_hidden": false
    }
   },
   "outputs": [],
   "source": [
    "with open(\"../../data/raw/MIAP_FULL/metadata/open_images_extended_miap_boxes_train.csv\") as f:\n",
    "    reader = csv.reader(f, delimiter=',')\n",
    "    det_data = [row for row in reader]"
   ]
  },
  {
   "cell_type": "code",
   "execution_count": 7,
   "id": "6f44f6b935fb7a4",
   "metadata": {
    "ExecuteTime": {
     "end_time": "2024-04-14T09:13:59.689573114Z",
     "start_time": "2024-04-14T09:13:59.641436034Z"
    },
    "collapsed": false,
    "jupyter": {
     "outputs_hidden": false
    }
   },
   "outputs": [],
   "source": [
    "with open(\"../../data/raw/MIAP/metadata/classes.csv\") as f:\n",
    "    reader = csv.reader(f, delimiter=\",\")\n",
    "    classes = {row[0] : row[1] for row in reader}"
   ]
  },
  {
   "cell_type": "code",
   "execution_count": 8,
   "id": "d1790c818eaff67",
   "metadata": {
    "ExecuteTime": {
     "end_time": "2024-04-14T09:13:59.691573557Z",
     "start_time": "2024-04-14T09:13:59.659827269Z"
    },
    "collapsed": false,
    "jupyter": {
     "outputs_hidden": false
    }
   },
   "outputs": [],
   "source": [
    "def to_detections(sample: pd.DataFrame):\n",
    "    detections = []\n",
    "    \n",
    "    label = sample[\"ImageID\"].iloc[0]\n",
    "    \n",
    "    for _, row in sample.iterrows():\n",
    "        bbox = [row[\"XMin\"], row[\"YMin\"], row[\"XMax\"] - row[\"XMin\"], row[\"YMax\"] - row[\"YMin\"]]\n",
    "        detection = fo.Detection(bounding_box=bbox, label=row[\"LabelName\"])\n",
    "        \n",
    "        detection[\"IsOccluded\"] = bool(row[\"IsOccluded\"])\n",
    "        detection[\"IsTruncated\"] = bool(row[\"IsTruncated\"])\n",
    "        detection[\"IsGroupOf\"] = bool(row[\"IsGroupOf\"])\n",
    "        detection[\"IsDepictionOf\"] = bool(row[\"IsDepictionOf\"])\n",
    "        detection[\"IsInsideOf\"] = bool(row[\"IsInsideOf\"])\n",
    "        \n",
    "        detections.append(detection)\n",
    "    \n",
    "    return label, fo.Detections(detections=detections)"
   ]
  },
  {
   "cell_type": "code",
   "execution_count": 9,
   "id": "9cd148baf5b0518a",
   "metadata": {
    "ExecuteTime": {
     "end_time": "2024-04-14T09:13:59.836829563Z",
     "start_time": "2024-04-14T09:13:59.666251010Z"
    },
    "collapsed": false,
    "jupyter": {
     "outputs_hidden": false
    }
   },
   "outputs": [
    {
     "data": {
      "text/html": [
       "<div>\n",
       "<style scoped>\n",
       "    .dataframe tbody tr th:only-of-type {\n",
       "        vertical-align: middle;\n",
       "    }\n",
       "\n",
       "    .dataframe tbody tr th {\n",
       "        vertical-align: top;\n",
       "    }\n",
       "\n",
       "    .dataframe thead th {\n",
       "        text-align: right;\n",
       "    }\n",
       "</style>\n",
       "<table border=\"1\" class=\"dataframe\">\n",
       "  <thead>\n",
       "    <tr style=\"text-align: right;\">\n",
       "      <th></th>\n",
       "      <th>ImageID</th>\n",
       "      <th>LabelName</th>\n",
       "      <th>Confidence</th>\n",
       "      <th>XMin</th>\n",
       "      <th>XMax</th>\n",
       "      <th>YMin</th>\n",
       "      <th>YMax</th>\n",
       "      <th>IsOccluded</th>\n",
       "      <th>IsTruncated</th>\n",
       "      <th>IsGroupOf</th>\n",
       "      <th>IsDepictionOf</th>\n",
       "      <th>IsInsideOf</th>\n",
       "      <th>GenderPresentation</th>\n",
       "      <th>AgePresentation</th>\n",
       "    </tr>\n",
       "  </thead>\n",
       "  <tbody>\n",
       "    <tr>\n",
       "      <th>0</th>\n",
       "      <td>0d05f4fb7c2c80eb</td>\n",
       "      <td>Person</td>\n",
       "      <td>1</td>\n",
       "      <td>0.115625</td>\n",
       "      <td>0.964063</td>\n",
       "      <td>0.475000</td>\n",
       "      <td>0.993750</td>\n",
       "      <td>1</td>\n",
       "      <td>1</td>\n",
       "      <td>1</td>\n",
       "      <td>0</td>\n",
       "      <td>0</td>\n",
       "      <td>Unknown</td>\n",
       "      <td>Unknown</td>\n",
       "    </tr>\n",
       "    <tr>\n",
       "      <th>1</th>\n",
       "      <td>07961f9cae2d6646</td>\n",
       "      <td>Person</td>\n",
       "      <td>1</td>\n",
       "      <td>0.183976</td>\n",
       "      <td>0.286350</td>\n",
       "      <td>0.362637</td>\n",
       "      <td>0.578022</td>\n",
       "      <td>0</td>\n",
       "      <td>1</td>\n",
       "      <td>0</td>\n",
       "      <td>0</td>\n",
       "      <td>0</td>\n",
       "      <td>Predominantly Feminine</td>\n",
       "      <td>Middle</td>\n",
       "    </tr>\n",
       "    <tr>\n",
       "      <th>2</th>\n",
       "      <td>006a1bb8403536e4</td>\n",
       "      <td>Person</td>\n",
       "      <td>1</td>\n",
       "      <td>0.582812</td>\n",
       "      <td>0.957812</td>\n",
       "      <td>0.122917</td>\n",
       "      <td>0.970833</td>\n",
       "      <td>0</td>\n",
       "      <td>1</td>\n",
       "      <td>0</td>\n",
       "      <td>0</td>\n",
       "      <td>0</td>\n",
       "      <td>Predominantly Masculine</td>\n",
       "      <td>Middle</td>\n",
       "    </tr>\n",
       "    <tr>\n",
       "      <th>3</th>\n",
       "      <td>e937b900f636360b</td>\n",
       "      <td>Person</td>\n",
       "      <td>1</td>\n",
       "      <td>0.106038</td>\n",
       "      <td>0.910162</td>\n",
       "      <td>0.073009</td>\n",
       "      <td>1.000000</td>\n",
       "      <td>1</td>\n",
       "      <td>1</td>\n",
       "      <td>0</td>\n",
       "      <td>0</td>\n",
       "      <td>0</td>\n",
       "      <td>Unknown</td>\n",
       "      <td>Unknown</td>\n",
       "    </tr>\n",
       "    <tr>\n",
       "      <th>4</th>\n",
       "      <td>a6f42ca6f29954aa</td>\n",
       "      <td>Person</td>\n",
       "      <td>1</td>\n",
       "      <td>0.293944</td>\n",
       "      <td>0.558346</td>\n",
       "      <td>0.125828</td>\n",
       "      <td>0.997792</td>\n",
       "      <td>1</td>\n",
       "      <td>0</td>\n",
       "      <td>0</td>\n",
       "      <td>0</td>\n",
       "      <td>0</td>\n",
       "      <td>Predominantly Masculine</td>\n",
       "      <td>Middle</td>\n",
       "    </tr>\n",
       "    <tr>\n",
       "      <th>...</th>\n",
       "      <td>...</td>\n",
       "      <td>...</td>\n",
       "      <td>...</td>\n",
       "      <td>...</td>\n",
       "      <td>...</td>\n",
       "      <td>...</td>\n",
       "      <td>...</td>\n",
       "      <td>...</td>\n",
       "      <td>...</td>\n",
       "      <td>...</td>\n",
       "      <td>...</td>\n",
       "      <td>...</td>\n",
       "      <td>...</td>\n",
       "      <td>...</td>\n",
       "    </tr>\n",
       "    <tr>\n",
       "      <th>373381</th>\n",
       "      <td>7d7b302d11dc1474</td>\n",
       "      <td>Person</td>\n",
       "      <td>1</td>\n",
       "      <td>0.045313</td>\n",
       "      <td>0.592188</td>\n",
       "      <td>0.283333</td>\n",
       "      <td>0.972917</td>\n",
       "      <td>1</td>\n",
       "      <td>1</td>\n",
       "      <td>0</td>\n",
       "      <td>0</td>\n",
       "      <td>0</td>\n",
       "      <td>Unknown</td>\n",
       "      <td>Unknown</td>\n",
       "    </tr>\n",
       "    <tr>\n",
       "      <th>373382</th>\n",
       "      <td>b3d9da2c04e028e1</td>\n",
       "      <td>Person</td>\n",
       "      <td>1</td>\n",
       "      <td>0.773529</td>\n",
       "      <td>0.908824</td>\n",
       "      <td>0.636364</td>\n",
       "      <td>1.000000</td>\n",
       "      <td>1</td>\n",
       "      <td>0</td>\n",
       "      <td>0</td>\n",
       "      <td>0</td>\n",
       "      <td>0</td>\n",
       "      <td>Predominantly Masculine</td>\n",
       "      <td>Middle</td>\n",
       "    </tr>\n",
       "    <tr>\n",
       "      <th>373383</th>\n",
       "      <td>ec8b0bd4fa2075ae</td>\n",
       "      <td>Person</td>\n",
       "      <td>1</td>\n",
       "      <td>0.360206</td>\n",
       "      <td>0.716981</td>\n",
       "      <td>0.076046</td>\n",
       "      <td>0.629278</td>\n",
       "      <td>0</td>\n",
       "      <td>1</td>\n",
       "      <td>0</td>\n",
       "      <td>0</td>\n",
       "      <td>0</td>\n",
       "      <td>Unknown</td>\n",
       "      <td>Unknown</td>\n",
       "    </tr>\n",
       "    <tr>\n",
       "      <th>373384</th>\n",
       "      <td>db354a954b34e79a</td>\n",
       "      <td>Person</td>\n",
       "      <td>1</td>\n",
       "      <td>0.656342</td>\n",
       "      <td>0.806785</td>\n",
       "      <td>0.356195</td>\n",
       "      <td>0.860619</td>\n",
       "      <td>0</td>\n",
       "      <td>1</td>\n",
       "      <td>0</td>\n",
       "      <td>0</td>\n",
       "      <td>0</td>\n",
       "      <td>Predominantly Feminine</td>\n",
       "      <td>Middle</td>\n",
       "    </tr>\n",
       "    <tr>\n",
       "      <th>373385</th>\n",
       "      <td>c967618bcfc4169a</td>\n",
       "      <td>Person</td>\n",
       "      <td>1</td>\n",
       "      <td>0.178914</td>\n",
       "      <td>0.619808</td>\n",
       "      <td>0.142857</td>\n",
       "      <td>0.934694</td>\n",
       "      <td>0</td>\n",
       "      <td>1</td>\n",
       "      <td>0</td>\n",
       "      <td>0</td>\n",
       "      <td>0</td>\n",
       "      <td>Predominantly Feminine</td>\n",
       "      <td>Middle</td>\n",
       "    </tr>\n",
       "  </tbody>\n",
       "</table>\n",
       "<p>373386 rows × 14 columns</p>\n",
       "</div>"
      ],
      "text/plain": [
       "                 ImageID LabelName  Confidence      XMin      XMax      YMin  \\\n",
       "0       0d05f4fb7c2c80eb    Person           1  0.115625  0.964063  0.475000   \n",
       "1       07961f9cae2d6646    Person           1  0.183976  0.286350  0.362637   \n",
       "2       006a1bb8403536e4    Person           1  0.582812  0.957812  0.122917   \n",
       "3       e937b900f636360b    Person           1  0.106038  0.910162  0.073009   \n",
       "4       a6f42ca6f29954aa    Person           1  0.293944  0.558346  0.125828   \n",
       "...                  ...       ...         ...       ...       ...       ...   \n",
       "373381  7d7b302d11dc1474    Person           1  0.045313  0.592188  0.283333   \n",
       "373382  b3d9da2c04e028e1    Person           1  0.773529  0.908824  0.636364   \n",
       "373383  ec8b0bd4fa2075ae    Person           1  0.360206  0.716981  0.076046   \n",
       "373384  db354a954b34e79a    Person           1  0.656342  0.806785  0.356195   \n",
       "373385  c967618bcfc4169a    Person           1  0.178914  0.619808  0.142857   \n",
       "\n",
       "            YMax  IsOccluded  IsTruncated  IsGroupOf  IsDepictionOf  \\\n",
       "0       0.993750           1            1          1              0   \n",
       "1       0.578022           0            1          0              0   \n",
       "2       0.970833           0            1          0              0   \n",
       "3       1.000000           1            1          0              0   \n",
       "4       0.997792           1            0          0              0   \n",
       "...          ...         ...          ...        ...            ...   \n",
       "373381  0.972917           1            1          0              0   \n",
       "373382  1.000000           1            0          0              0   \n",
       "373383  0.629278           0            1          0              0   \n",
       "373384  0.860619           0            1          0              0   \n",
       "373385  0.934694           0            1          0              0   \n",
       "\n",
       "        IsInsideOf       GenderPresentation AgePresentation  \n",
       "0                0                  Unknown         Unknown  \n",
       "1                0   Predominantly Feminine          Middle  \n",
       "2                0  Predominantly Masculine          Middle  \n",
       "3                0                  Unknown         Unknown  \n",
       "4                0  Predominantly Masculine          Middle  \n",
       "...            ...                      ...             ...  \n",
       "373381           0                  Unknown         Unknown  \n",
       "373382           0  Predominantly Masculine          Middle  \n",
       "373383           0                  Unknown         Unknown  \n",
       "373384           0   Predominantly Feminine          Middle  \n",
       "373385           0   Predominantly Feminine          Middle  \n",
       "\n",
       "[373386 rows x 14 columns]"
      ]
     },
     "execution_count": 9,
     "metadata": {},
     "output_type": "execute_result"
    }
   ],
   "source": [
    "df = pd.read_csv(\"../../data/raw/MIAP_FULL/metadata/open_images_extended_miap_boxes_train.csv\")\n",
    "df[\"LabelName\"] = df[\"LabelName\"].apply(lambda x: classes[x])\n",
    "df"
   ]
  },
  {
   "cell_type": "code",
   "execution_count": 15,
   "id": "01545952-f56a-4e82-b821-8b38adc6be0a",
   "metadata": {},
   "outputs": [],
   "source": [
    "df = df[ # (df[\"IsOccluded\"] == 0) & \n",
    "   (df[\"IsTruncated\"] == 0) & \n",
    "   (df[\"IsGroupOf\"] == 0) & \n",
    "   (df[\"IsDepictionOf\"] == 0) & \n",
    "   (df[\"XMin\"] != df[\"XMax\"]) & \n",
    "   (df[\"YMin\"] != df[\"YMax\"])]"
   ]
  },
  {
   "cell_type": "code",
   "execution_count": 16,
   "id": "199a3a68da5b4d43",
   "metadata": {
    "ExecuteTime": {
     "end_time": "2024-04-14T09:14:18.015956808Z",
     "start_time": "2024-04-14T09:13:59.760612841Z"
    },
    "collapsed": false,
    "jupyter": {
     "outputs_hidden": false
    }
   },
   "outputs": [
    {
     "name": "stderr",
     "output_type": "stream",
     "text": [
      "/tmp/ipykernel_253499/3934255324.py:1: DeprecationWarning: DataFrameGroupBy.apply operated on the grouping columns. This behavior is deprecated, and in a future version of pandas the grouping columns will be excluded from the operation. Either pass `include_groups=False` to exclude the groupings or explicitly select the grouping columns after groupby to silence this warning.\n",
      "  detections = df.groupby(\"ImageID\", group_keys=True).apply(lambda x: to_detections(x))\n"
     ]
    }
   ],
   "source": [
    "detections = df.groupby(\"ImageID\", group_keys=True).apply(lambda x: to_detections(x))\n"
   ]
  },
  {
   "cell_type": "code",
   "execution_count": 17,
   "id": "6c616fcf7039eaaa",
   "metadata": {
    "ExecuteTime": {
     "end_time": "2024-04-14T09:14:18.111355591Z",
     "start_time": "2024-04-14T09:14:18.024623984Z"
    },
    "collapsed": false,
    "jupyter": {
     "outputs_hidden": false
    }
   },
   "outputs": [],
   "source": [
    "dataset = fo.Dataset(name=\"MIAP_RAW_FULL\", persistent=True, overwrite=True)"
   ]
  },
  {
   "cell_type": "code",
   "execution_count": 18,
   "id": "e83c340fc02e4260",
   "metadata": {
    "ExecuteTime": {
     "end_time": "2024-04-14T09:14:42.094595680Z",
     "start_time": "2024-04-14T09:14:18.091464060Z"
    },
    "collapsed": false,
    "jupyter": {
     "outputs_hidden": false
    }
   },
   "outputs": [],
   "source": [
    "for label, detection in detections:\n",
    "    image_path = f\"../../data/raw/MIAP_FULL/data/{label}.jpg\"\n",
    "    sample = fo.Sample(filepath=image_path)\n",
    "    sample[\"detections\"] = detection\n",
    "    dataset.add_sample(sample)"
   ]
  },
  {
   "cell_type": "code",
   "execution_count": 19,
   "id": "4e9c3d0a872617fc",
   "metadata": {
    "ExecuteTime": {
     "end_time": "2024-04-14T09:15:07.376004925Z",
     "start_time": "2024-04-14T09:14:42.138618705Z"
    },
    "collapsed": false,
    "jupyter": {
     "outputs_hidden": false
    }
   },
   "outputs": [
    {
     "name": "stdout",
     "output_type": "stream",
     "text": [
      "Computing metadata...\n",
      " 100% |█████████████| 41499/41499 [12.8s elapsed, 0s remaining, 3.5K samples/s]      \n"
     ]
    }
   ],
   "source": [
    "dataset.compute_metadata()"
   ]
  },
  {
   "cell_type": "code",
   "execution_count": null,
   "id": "4443208d7228afd1",
   "metadata": {
    "ExecuteTime": {
     "end_time": "2024-04-14T09:19:37.729277800Z",
     "start_time": "2024-04-14T09:15:07.360694535Z"
    },
    "collapsed": false,
    "jupyter": {
     "outputs_hidden": false
    }
   },
   "outputs": [],
   "source": [
    "model = foz.load_zoo_model(\"mobilenet-v2-imagenet-torch\")\n",
    "embeddings = dataset.compute_embeddings(model)"
   ]
  },
  {
   "cell_type": "code",
   "execution_count": null,
   "id": "2021295e20628bb2",
   "metadata": {
    "ExecuteTime": {
     "start_time": "2024-04-14T09:19:37.732220364Z"
    },
    "collapsed": false,
    "jupyter": {
     "outputs_hidden": false
    }
   },
   "outputs": [],
   "source": [
    "results = fob.compute_visualization(\n",
    "    dataset, embeddings=embeddings, seed=51, brain_key=\"img_viz\"\n",
    ")"
   ]
  },
  {
   "cell_type": "code",
   "execution_count": null,
   "id": "eeab78ef99fa085",
   "metadata": {
    "ExecuteTime": {
     "start_time": "2024-04-14T09:19:37.737093271Z"
    },
    "collapsed": false,
    "jupyter": {
     "outputs_hidden": false
    }
   },
   "outputs": [],
   "source": [
    "fob.compute_similarity(dataset, brain_key=\"image_sim\")"
   ]
  },
  {
   "cell_type": "code",
   "execution_count": null,
   "id": "ffde26edb7721bf7",
   "metadata": {
    "ExecuteTime": {
     "start_time": "2024-04-14T09:19:37.739171706Z"
    },
    "collapsed": false,
    "jupyter": {
     "outputs_hidden": false
    }
   },
   "outputs": [],
   "source": [
    "fob.compute_uniqueness(dataset, embeddings=embeddings, model=model)"
   ]
  },
  {
   "cell_type": "code",
   "execution_count": null,
   "id": "723aed02c27f29a0",
   "metadata": {
    "ExecuteTime": {
     "start_time": "2024-04-14T09:19:37.741973124Z"
    },
    "collapsed": false,
    "jupyter": {
     "outputs_hidden": false
    }
   },
   "outputs": [],
   "source": [
    "session = fo.launch_app(dataset, auto=False)\n",
    "session.url"
   ]
  },
  {
   "cell_type": "code",
   "execution_count": 20,
   "id": "0b83a2c3-eea7-4f48-914e-b54cd87a3354",
   "metadata": {},
   "outputs": [],
   "source": [
    "three_channels_view = dataset.match(F(\"metadata.num_channels\") == 3)\n",
    "splits = [\"train\", \"val\", \"test\"]"
   ]
  },
  {
   "cell_type": "code",
   "execution_count": 21,
   "id": "7a8b1268-939b-450d-b1f6-892b2adb5c41",
   "metadata": {},
   "outputs": [
    {
     "name": "stdout",
     "output_type": "stream",
     "text": []
    },
    {
     "name": "stdout",
     "output_type": "stream",
     "text": [
      " 100% |█████████████| 32062/32062 [1.1m elapsed, 0s remaining, 550.6 samples/s]      \n",
      " 100% |███████████████| 4008/4008 [10.5s elapsed, 0s remaining, 349.6 samples/s]      \n",
      " 100% |███████████████| 4008/4008 [9.8s elapsed, 0s remaining, 485.9 samples/s]       \n"
     ]
    }
   ],
   "source": [
    "four.random_split(three_channels_view, {\"train\": 0.8, \"val\": 0.1, \"test\": 0.1}, seed=0)\n",
    "train_view = dataset.match_tags(\"train\")\n",
    "val_view = dataset.match_tags(\"val\")\n",
    "test_view = dataset.match_tags(\"test\")\n",
    "for split in splits:\n",
    "    split_view = three_channels_view.match_tags(split)\n",
    "    split_view.export(\n",
    "       export_dir=f\"../../data/processed/MIAP_FULL_MOBILE_NET/\",\n",
    "       dataset_type=fo.types.COCODetectionDataset,\n",
    "       label_field=\"detections\"\n",
    "    )\n",
    "train_view.export(\n",
    "   export_dir=\"../../data/processed/MIAP_FULL_MOBILE_NET\",\n",
    "   dataset_type=fo.types.COCODetectionDataset,\n",
    "   label_field=\"detections\"\n",
    ")\n",
    "val_view.export(\n",
    "   export_dir=\"../../data/processed/MIAP_FULL_COCO_VAL\",\n",
    "   dataset_type=fo.types.COCODetectionDataset,\n",
    "   label_field=\"detections\"\n",
    ")\n",
    "test_view.export(\n",
    "   export_dir=\"../../data/processed/MIAP_FULL_COCO_TEST\",\n",
    "   dataset_type=fo.types.COCODetectionDataset,\n",
    "   label_field=\"detections\"\n",
    ")"
   ]
  },
  {
   "cell_type": "code",
   "execution_count": null,
   "id": "bd2d9457-424a-4ac2-b47b-91e46b261f9d",
   "metadata": {},
   "outputs": [],
   "source": [
    "export_dir = \"../../data/processed/MIAP_FULL_YOLO\"\n",
    "classes=[\"Background\", \"Person\"]\n",
    "splits = [\"train\", \"val\", \"test\"]\n",
    "\n",
    "for split in splits:\n",
    "    split_view = three_channels_view.match_tags(split)\n",
    "    split_view.export(\n",
    "        export_dir=export_dir,\n",
    "        dataset_type=fo.types.YOLOv5Dataset,\n",
    "        label_field=label_field,\n",
    "        split=split,\n",
    "        classes=classes,\n",
    "    )"
   ]
  },
  {
   "cell_type": "code",
   "execution_count": 22,
   "id": "86f02c1ded12e1c7",
   "metadata": {
    "collapsed": false,
    "jupyter": {
     "outputs_hidden": false
    }
   },
   "outputs": [
    {
     "name": "stderr",
     "output_type": "stream",
     "text": [
      "100%|███████████████████████████████████████████████████████████████████████████████████████████████████████████████████████████████████████████████████████████████████████████| 97752/97752 [00:00<00:00, 1814214.56it/s]\n",
      "100%|███████████████████████████████████████████████████████████████████████████████████████████████████████████████████████████████████████████████████████████████████████████| 12628/12628 [00:00<00:00, 1513261.65it/s]\n",
      "100%|███████████████████████████████████████████████████████████████████████████████████████████████████████████████████████████████████████████████████████████████████████████| 12065/12065 [00:00<00:00, 1703560.94it/s]\n"
     ]
    }
   ],
   "source": [
    "for path in [\"../../data/processed/MIAP_FULL_COCO_TRAIN\", \n",
    "             \"../../data/processed/MIAP_FULL_COCO_VAL\", \n",
    "             \"../../data/processed/MIAP_FULL_COCO_TEST\"]:\n",
    "    with open(join(path, \"labels.json\")) as labels:\n",
    "        data = json.load(labels)\n",
    "        new_data = copy.deepcopy(data)\n",
    "        new_data[\"categories\"] = [{'id': 0, 'name': 'Background', 'supercategory': None},\n",
    "                              {'id': 1, 'name': 'Person', 'supercategory': None}]\n",
    "        for annotation in tqdm(new_data['annotations']):\n",
    "            image_id = annotation['image_id']\n",
    "            image = new_data['images'][image_id - 1]\n",
    "            # annotation['bbox'] = [annotation['bbox'][0] / image['width'],\n",
    "            #                       annotation['bbox'][1] / image['height'],\n",
    "            #                       annotation['bbox'][2] / image['width'],\n",
    "            #                       annotation['bbox'][3] / image['height']]\n",
    "            annotation['category_id'] = 1\n",
    "            \n",
    "    with open(join(path, \"new_labels.json\"), 'w') as output_labels:   \n",
    "        json.dump(new_data, output_labels)"
   ]
  },
  {
   "cell_type": "code",
   "execution_count": null,
   "id": "c86a5482-4e79-4651-b2e7-b33f01cc0c62",
   "metadata": {},
   "outputs": [],
   "source": []
  }
 ],
 "metadata": {
  "kernelspec": {
   "display_name": "Python 3 (ipykernel)",
   "language": "python",
   "name": "python3"
  },
  "language_info": {
   "codemirror_mode": {
    "name": "ipython",
    "version": 3
   },
   "file_extension": ".py",
   "mimetype": "text/x-python",
   "name": "python",
   "nbconvert_exporter": "python",
   "pygments_lexer": "ipython3",
   "version": "3.10.12"
  }
 },
 "nbformat": 4,
 "nbformat_minor": 5
}
